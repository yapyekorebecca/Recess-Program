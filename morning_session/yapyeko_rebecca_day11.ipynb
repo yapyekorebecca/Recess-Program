{
 "cells": [
  {
   "cell_type": "code",
   "execution_count": null,
   "metadata": {},
   "outputs": [],
   "source": [
    "# Machine learning \n",
    "# types of machine learning\n",
    "# supervised learning\n",
    "# unsupervised learning\n",
    "# Reinforcement learning "
   ]
  },
  {
   "cell_type": "code",
   "execution_count": null,
   "metadata": {},
   "outputs": [],
   "source": [
    "# Data processing \n",
    "# data cleaning\n",
    "# steps for checking \n",
    "# 1.Duplicates ,wrong format,wrong data ,empty cell, missing data\n",
    "# handling missing data,remove/delete,inputation mean/median/mode \n",
    "\n"
   ]
  },
  {
   "cell_type": "code",
   "execution_count": null,
   "metadata": {},
   "outputs": [],
   "source": [
    "# Exploratory Data Analysis\n",
    "\"\"\"\n",
    "# steps\n",
    "-descriptive statistics \n",
    "\n",
    "-measure of Central Tendency , mean, median ,mode.\n",
    "\n",
    "-measure of speed : range ,variance, standard deviation , iterquartile range\n",
    "\n",
    "-skewness, kurtosis\n",
    "\n",
    "-dataVisualisation . histogram distrubution of a single variable ,boxplots-identifying outliers,scatter plots.examining relationships between two variables\n",
    "\n",
    "-scatter plot , examining relations between two variables\n",
    "\n",
    "- heatmaps , visualing correlation matrics\n",
    "-\n",
    "\"\"\""
   ]
  },
  {
   "cell_type": "code",
   "execution_count": null,
   "metadata": {},
   "outputs": [],
   "source": [
    "# Tools for data vislisation\n",
    "# matplolib, line ,bar,sscatter  and histogram\n",
    "# seaborn, themes, color,palettes,looks more attractive\n",
    "# plotly ,Bokeh\n"
   ]
  },
  {
   "cell_type": "code",
   "execution_count": null,
   "metadata": {},
   "outputs": [],
   "source": [
    "# Feature Engineering \n",
    "# Selection , Filter like chi-square,ANOVA,,\n",
    "# Wrapper recursive features\n",
    "# Embeded , lasso regression \n",
    "\n",
    "# //Feature scaling and Normalisation\n",
    "\n",
    "# Normalisation Rescale to a range , (age, 20-28)\n",
    "# Standard deviation , trandform std,\n",
    "\n",
    "# create new features , polynomals , interaction"
   ]
  },
  {
   "cell_type": "code",
   "execution_count": null,
   "metadata": {},
   "outputs": [],
   "source": [
    "_#Data Spliting \n",
    "# Training and evaluation of a model\n",
    "# Most common ratios, 20(testing ) - 80(training), or 30-70\n",
    "# import  sckit-learn helps split train_test_split"
   ]
  },
  {
   "cell_type": "code",
   "execution_count": null,
   "metadata": {},
   "outputs": [],
   "source": [
    "# Random state is used to shuffle data before splitting it into a training and test set \n",
    "\n",
    "# cross validation - evaluate the performance of the data ,mulple folds\n",
    "# Types are , train/test we can use K-fold cross validation\n",
    "\n",
    "# Stratified k-fold,Ensure our distrubtion of the target  variable , particulary used in the inbalance datasets\n",
    "\n",
    "# Cross validation helps in reducing variance in model performance  estimates\n",
    "\n",
    "# provides a comprehensive evaluation of model performance\n",
    "\n"
   ]
  },
  {
   "cell_type": "code",
   "execution_count": null,
   "metadata": {},
   "outputs": [],
   "source": [
    "# Supervised Learning Algorithm\n",
    "# 1.Regression \n",
    "#  linear, polynomial\n",
    "\n",
    "# 2.Classification \n",
    "# logistic Regression , k-nearest Neighour(KNN), Support Vector Machine (SVM), Decision Trees and Random forest\n",
    "\n",
    "# Model evaluation\n",
    "# Metrics /:Accuarcy, Precision , Recall, F1-Score\n",
    "# Confusion Matrix\n",
    "# AUC and ROC  Area Under the Curve, Receier Operating Characteristics Curve"
   ]
  },
  {
   "cell_type": "code",
   "execution_count": null,
   "metadata": {},
   "outputs": [],
   "source": [
    "# Summary \n",
    "#  labelled data , Predict output for newinputs, commin task, Classification and Regression\n",
    "\n",
    "# summary Unsupervised learning \n",
    "# Unlabeled , find hidden patterns or structures in data, common task like , clustering , Dimension\n",
    "\n",
    "\n",
    "#  Definition\n",
    "# Supervised learning : learns from labeled data to predict outputs for new inputs\n",
    "# unsupervised learning : learns from unlabeled data to identify patterns and structures in data  \n"
   ]
  },
  {
   "cell_type": "code",
   "execution_count": null,
   "metadata": {},
   "outputs": [],
   "source": []
  }
 ],
 "metadata": {
  "language_info": {
   "name": "python"
  }
 },
 "nbformat": 4,
 "nbformat_minor": 2
}
