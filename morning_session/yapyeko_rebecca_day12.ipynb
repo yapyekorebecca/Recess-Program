{
 "cells": [
  {
   "cell_type": "code",
   "execution_count": 2,
   "metadata": {},
   "outputs": [
    {
     "name": "stdout",
     "output_type": "stream",
     "text": [
      "     age  sex  cp  trestbps  chol  fbs  restecg  thalach  exang  oldpeak  \\\n",
      "0     63    1   3       145   233    1        0      150      0      2.3   \n",
      "1     37    1   2       130   250    0        1      187      0      3.5   \n",
      "2     41    0   1       130   204    0        0      172      0      1.4   \n",
      "3     56    1   1       120   236    0        1      178      0      0.8   \n",
      "4     57    0   0       120   354    0        1      163      1      0.6   \n",
      "..   ...  ...  ..       ...   ...  ...      ...      ...    ...      ...   \n",
      "298   57    0   0       140   241    0        1      123      1      0.2   \n",
      "299   45    1   3       110   264    0        1      132      0      1.2   \n",
      "300   68    1   0       144   193    1        1      141      0      3.4   \n",
      "301   57    1   0       130   131    0        1      115      1      1.2   \n",
      "302   57    0   1       130   236    0        0      174      0      0.0   \n",
      "\n",
      "     slope  ca  thal  target  \n",
      "0        0   0     1       1  \n",
      "1        0   0     2       1  \n",
      "2        2   0     2       1  \n",
      "3        2   0     2       1  \n",
      "4        2   0     2       1  \n",
      "..     ...  ..   ...     ...  \n",
      "298      1   0     3       0  \n",
      "299      1   0     3       0  \n",
      "300      1   2     3       0  \n",
      "301      1   1     3       0  \n",
      "302      1   1     2       0  \n",
      "\n",
      "[303 rows x 14 columns]\n"
     ]
    }
   ],
   "source": [
    "import pandas as pd\n",
    "import matplotlib.pyplot as plt\n",
    "import numpy as np\n",
    "\n",
    "\n",
    "my_data=pd.read_csv('heart.csv')\n",
    "print(my_data)                                        "
   ]
  },
  {
   "cell_type": "code",
   "execution_count": 3,
   "metadata": {},
   "outputs": [
    {
     "name": "stdout",
     "output_type": "stream",
     "text": [
      "Selected features: Index(['age', 'sex', 'cp', 'trestbps', 'chol', 'thalach', 'exang', 'oldpeak',\n",
      "       'slope', 'ca'],\n",
      "      dtype='object')\n"
     ]
    }
   ],
   "source": [
    "# Feature Engineering\n",
    "# select the top 10 features based on the chi-square test\n",
    "from sklearn.feature_selection import SelectKBest, chi2\n",
    "\n",
    "x=my_data.drop('target',axis=1)\n",
    "y=my_data['target']\n",
    "selector=SelectKBest(chi2,k=10)\n",
    "x_new=selector.fit_transform(x,y)\n",
    "\n",
    "selected_features=x.columns[selector.get_support()]\n",
    "print('Selected features:',selected_features)\n",
    "\n",
    "\n"
   ]
  },
  {
   "cell_type": "code",
   "execution_count": null,
   "metadata": {},
   "outputs": [],
   "source": [
    "# Notes on the datasets \n",
    "# target column, is the heart disease status , where ,0= no herat disease\n",
    "# presence of the heart disease"
   ]
  },
  {
   "cell_type": "code",
   "execution_count": 4,
   "metadata": {},
   "outputs": [
    {
     "name": "stdout",
     "output_type": "stream",
     "text": [
      "Transformed DataFrame:     age  sex   cp  trestbps   chol  thalach  exang  oldpeak  slope   ca\n",
      "0  63.0  1.0  3.0     145.0  233.0    150.0    0.0      2.3    0.0  0.0\n",
      "1  37.0  1.0  2.0     130.0  250.0    187.0    0.0      3.5    0.0  0.0\n",
      "2  41.0  0.0  1.0     130.0  204.0    172.0    0.0      1.4    2.0  0.0\n",
      "3  56.0  1.0  1.0     120.0  236.0    178.0    0.0      0.8    2.0  0.0\n",
      "4  57.0  0.0  0.0     120.0  354.0    163.0    1.0      0.6    2.0  0.0\n"
     ]
    }
   ],
   "source": [
    "# Feature scaling and Normalisation\n",
    "from sklearn.preprocessing import StandardScaler, MinMaxScaler\n",
    "\n",
    "# standardize the features\n",
    "scaler=StandardScaler()\n",
    "x_scaled=scaler.fit_transform(x)\n",
    "\n",
    "# normalize the features\n",
    "scaler=MinMaxScaler()\n",
    "x_normalized=scaler.fit_transform(x)\n",
    "\n",
    "# convert scaled feature back to DataFrame\n",
    "x_scaled=pd.DataFrame(x_scaled, columns=x.columns)\n",
    "\n",
    "# Convert the selected features back to a DataFrame\n",
    "x_new_df = pd.DataFrame(x_new, columns=selected_features)\n",
    "\n",
    "print('Transformed DataFrame:', x_new_df.head())\n",
    "\n"
   ]
  }
 ],
 "metadata": {
  "kernelspec": {
   "display_name": "Python 3",
   "language": "python",
   "name": "python3"
  },
  "language_info": {
   "codemirror_mode": {
    "name": "ipython",
    "version": 3
   },
   "file_extension": ".py",
   "mimetype": "text/x-python",
   "name": "python",
   "nbconvert_exporter": "python",
   "pygments_lexer": "ipython3",
   "version": "3.12.3"
  }
 },
 "nbformat": 4,
 "nbformat_minor": 2
}
